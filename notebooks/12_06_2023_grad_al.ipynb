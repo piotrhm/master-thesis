{
 "cells": [
  {
   "cell_type": "code",
   "execution_count": 1,
   "metadata": {
    "collapsed": true
   },
   "outputs": [],
   "source": [
    "import pandas as pd\n",
    "import numpy as np\n",
    "import matplotlib.pyplot as plt\n",
    "import re"
   ]
  },
  {
   "cell_type": "code",
   "execution_count": 2,
   "outputs": [],
   "source": [
    "df_base = pd.read_csv(\"../data/gradient_norm_cifar_10C_resnet_2023_05_31-05_32_33_PM.csv\", header=None)\n",
    "df_mixup = pd.read_csv(\"../data/gradient_norm_cifar_10C_resnet_mixup_2023_06_01-10_26_28_AM.csv\", header=None)\n",
    "\n",
    "df_base_eh = pd.read_csv(\"../data/cifar_10C_resnet_2023_05_31-05_32_30_PM.csv\", header=None)\n",
    "df_mixup_eh = pd.read_csv(\"../data/cifar_10C_resnet_mixup_2023_06_01-10_26_24_AM.csv\", header=None)"
   ],
   "metadata": {
    "collapsed": false,
    "pycharm": {
     "name": "#%%\n"
    }
   }
  },
  {
   "cell_type": "code",
   "execution_count": 3,
   "outputs": [],
   "source": [
    "def func_clean_grad(df, minn=0, maxx=259):\n",
    "    means = []\n",
    "    for i, row in df.iterrows():\n",
    "        arr_row = row.to_numpy()[1:]\n",
    "        means.append(arr_row[minn:maxx].mean())\n",
    "    return means"
   ],
   "metadata": {
    "collapsed": false,
    "pycharm": {
     "name": "#%%\n"
    }
   }
  },
  {
   "cell_type": "code",
   "execution_count": 4,
   "outputs": [],
   "source": [
    "def func_clean_eh(df):\n",
    "    index = []\n",
    "    for i, row in df.iterrows():\n",
    "        arr_row = row.to_numpy()\n",
    "        arr_row = [int(re.findall(r'\\d+',str(x))[0]) for x in arr_row]\n",
    "        target = arr_row[0]\n",
    "        for idx, i in enumerate(reversed(arr_row[1:])):\n",
    "            if target == i:\n",
    "                if idx == len(arr_row[1:])-1:\n",
    "                    index.append(0)\n",
    "                    break\n",
    "                continue\n",
    "            elif target != i and idx == 0:\n",
    "                index.append(260)\n",
    "                break\n",
    "            elif target != i:\n",
    "                index.append(len(arr_row)-idx-1)\n",
    "                break\n",
    "            elif target == i and idx == len(arr_row[1:])-1:\n",
    "                index.append(0)\n",
    "    return index"
   ],
   "metadata": {
    "collapsed": false,
    "pycharm": {
     "name": "#%%\n"
    }
   }
  },
  {
   "cell_type": "code",
   "execution_count": 5,
   "outputs": [],
   "source": [
    "df_base_grad_means = func_clean_grad(df_base, 210, 260)\n",
    "df_mixup_grad_means = func_clean_grad(df_mixup, 210, 260)\n",
    "\n",
    "df_base_converted = func_clean_eh(df_base_eh)\n",
    "df_mixup_converted = func_clean_eh(df_mixup_eh)"
   ],
   "metadata": {
    "collapsed": false,
    "pycharm": {
     "name": "#%%\n"
    }
   }
  },
  {
   "cell_type": "code",
   "execution_count": 6,
   "outputs": [],
   "source": [
    "buckets_base = {\n",
    "    'easy': [],\n",
    "    'mid': [],\n",
    "    'hard': [],\n",
    "}\n",
    "\n",
    "for mean, eh in zip(df_base_grad_means, df_base_converted):\n",
    "    if (eh >= 0) and (eh <= 90):\n",
    "        buckets_base['easy'].append(mean)\n",
    "    elif (eh > 90) and (eh <= 175):\n",
    "        buckets_base['mid'].append(mean)\n",
    "    elif (eh > 175) and (eh <= 260):\n",
    "        buckets_base['hard'].append(mean)\n",
    "\n",
    "buckets_mixup = {\n",
    "    'easy': [],\n",
    "    'mid': [],\n",
    "    'hard': [],\n",
    "}\n",
    "\n",
    "for mean, eh in zip(df_mixup_grad_means, df_mixup_converted):\n",
    "    if (eh >= 0) and (eh <= 90):\n",
    "        buckets_mixup['easy'].append(mean)\n",
    "    elif (eh > 90) and (eh <= 175):\n",
    "        buckets_mixup['mid'].append(mean)\n",
    "    elif (eh > 175) and (eh <= 260):\n",
    "        buckets_mixup['hard'].append(mean)"
   ],
   "metadata": {
    "collapsed": false,
    "pycharm": {
     "name": "#%%\n"
    }
   }
  },
  {
   "cell_type": "code",
   "execution_count": 7,
   "outputs": [
    {
     "name": "stdout",
     "output_type": "stream",
     "text": [
      "0.43104611534496334 2.7618044940932207\n",
      "5.0713007737767795 11.378061840021823\n",
      "14.683827486344827 27.216009169275196\n"
     ]
    }
   ],
   "source": [
    "print(np.array(buckets_base['easy']).mean(), np.array(buckets_mixup['easy']).mean())\n",
    "print(np.array(buckets_base['mid']).mean(), np.array(buckets_mixup['mid']).mean())\n",
    "print(np.array(buckets_base['hard']).mean(), np.array(buckets_mixup['hard']).mean())"
   ],
   "metadata": {
    "collapsed": false,
    "pycharm": {
     "name": "#%%\n"
    }
   }
  },
  {
   "cell_type": "markdown",
   "source": [
    "| * 0 - 20 * | base| mixup  |\n",
    "|------------|---|---|\n",
    "| easy       | 7.773303394612475  | 8.27825694066878 |\n",
    "| mid        | 18.290638641319582 | 17.592421178510616 |\n",
    "| hard       | 24.18711147411581  | 22.289547751122424 |\n",
    "\n",
    "| * 20 - 90 * | base               | mixup  |\n",
    "|-------------|--------------------|---|\n",
    "| easy        | 3.8802124358915933 | 4.767047503356592 |\n",
    "| mid         | 16.45337812301194  | 15.722333285190256 |\n",
    "| hard        | 24.441304126566443 | 23.760879194378735 |\n",
    "\n",
    "| * 90 - 150 * | base               | mixup  |\n",
    "|--------------|--------------------|---|\n",
    "| easy         | 0.6945777110380782 | 2.383452373303168 |\n",
    "| mid          | 8.856339043743384 | 11.188399674823462 |\n",
    "| hard         | 19.3842447790332   | 24.477187553708788 |\n",
    "\n",
    "| * 150 - 210 * | base                                  | mixup              |\n",
    "|---------------|---------------------------------------|--------------------|\n",
    "| easy          | 0.6070071618785483                    | 2.8989046820248645 |\n",
    "| mid           | 7.403963271510654 | 12.235454416802249 |\n",
    "| hard          | 18.342847111852297 | 28.283990821063913 |\n",
    "\n",
    "| * 210 - 260 * | base                                   | mixup              |\n",
    "|---------------|----------------------------------------|--------------------|\n",
    "| easy          | 0.43104611534496334 | 2.7618044940932207 |\n",
    "| mid           | 5.0713007737767795 | 11.378061840021823 |\n",
    "| hard          | 14.683827486344827 | 27.216009169275196 |"
   ],
   "metadata": {
    "collapsed": false,
    "pycharm": {
     "name": "#%% md\n"
    }
   }
  },
  {
   "cell_type": "code",
   "execution_count": 8,
   "outputs": [
    {
     "name": "stdout",
     "output_type": "stream",
     "text": [
      "easy_base: [7.773303394612475, 3.8802124358915933, 0.6945777110380782, 0.6070071618785483, 0.43104611534496334]\n",
      "easy_mixup: [8.27825694066878, 4.767047503356592, 2.383452373303168, 2.8989046820248645, 2.7618044940932207]\n",
      "mid_base: [18.290638641319582, 16.45337812301194, 8.856339043743384, 7.403963271510654, 5.0713007737767795]\n",
      "mid_mixup: [17.592421178510616, 15.722333285190256, 11.188399674823462, 12.235454416802249, 11.378061840021823]\n",
      "hard_base: [24.18711147411581, 24.441304126566443, 19.3842447790332, 18.342847111852297, 14.683827486344827]\n",
      "hard_mixup: [22.289547751122424, 23.760879194378735, 24.477187553708788, 28.283990821063913, 27.216009169275196]\n"
     ]
    }
   ],
   "source": [
    "# Define the table data\n",
    "table_data = [\n",
    "    [7.773303394612475, 8.27825694066878],\n",
    "    [18.290638641319582, 17.592421178510616],\n",
    "    [24.18711147411581, 22.289547751122424],\n",
    "    [3.8802124358915933, 4.767047503356592],\n",
    "    [16.45337812301194, 15.722333285190256],\n",
    "    [24.441304126566443, 23.760879194378735],\n",
    "    [0.6945777110380782, 2.383452373303168],\n",
    "    [8.856339043743384, 11.188399674823462],\n",
    "    [19.3842447790332, 24.477187553708788],\n",
    "    [0.6070071618785483, 2.8989046820248645],\n",
    "    [7.403963271510654, 12.235454416802249],\n",
    "    [18.342847111852297, 28.283990821063913],\n",
    "    [0.43104611534496334, 2.7618044940932207],\n",
    "    [5.0713007737767795, 11.378061840021823],\n",
    "    [14.683827486344827, 27.216009169275196]\n",
    "]\n",
    "\n",
    "# Extract arrays for each category\n",
    "easy_base = [row[0] for row in table_data[::3]]\n",
    "easy_mixup = [row[1] for row in table_data[::3]]\n",
    "\n",
    "mid_base = [row[0] for row in table_data[1::3]]\n",
    "mid_mixup = [row[1] for row in table_data[1::3]]\n",
    "\n",
    "hard_base = [row[0] for row in table_data[2::3]]\n",
    "hard_mixup = [row[1] for row in table_data[2::3]]\n",
    "\n",
    "# Print the extracted arrays\n",
    "print(\"easy_base:\", easy_base)\n",
    "print(\"easy_mixup:\", easy_mixup)\n",
    "print(\"mid_base:\", mid_base)\n",
    "print(\"mid_mixup:\", mid_mixup)\n",
    "print(\"hard_base:\", hard_base)\n",
    "print(\"hard_mixup:\", hard_mixup)"
   ],
   "metadata": {
    "collapsed": false,
    "pycharm": {
     "name": "#%%\n"
    }
   }
  },
  {
   "cell_type": "code",
   "execution_count": 17,
   "outputs": [
    {
     "data": {
      "text/plain": "<Figure size 432x288 with 1 Axes>",
      "image/png": "[encoded data removed]"
     },
     "metadata": {
      "needs_background": "light"
     },
     "output_type": "display_data"
    }
   ],
   "source": [
    "# Plotting\n",
    "categories = ['easy', 'mid', 'hard']\n",
    "x = [20, 90, 150, 210, 260]\n",
    "\n",
    "plt.plot(x, easy_base, marker='o', label='base')\n",
    "plt.plot(x, easy_mixup, marker='o', label='mixup')\n",
    "#plt.plot(x, mid_base, marker='o', label='base')\n",
    "#plt.plot(x, mid_mixup, marker='o', label='mixup')\n",
    "#plt.plot(x, hard_base, marker='o', label='base')\n",
    "#plt.plot(x, hard_mixup, marker='o', label='mixup')\n",
    "\n",
    "plt.xlabel('Epoch')\n",
    "plt.ylabel('Mean grad')\n",
    "plt.xticks(x)\n",
    "plt.legend()\n",
    "plt.grid(True)\n",
    "plt.savefig(\"grad_eh.png\")\n",
    "plt.show()"
   ],
   "metadata": {
    "collapsed": false,
    "pycharm": {
     "name": "#%%\n"
    }
   }
  },
  {
   "cell_type": "markdown",
   "source": [
    "“Mixup usuwa proste cechy z prostych przykladow aby pozyczyc je do trudnych przykladow”"
   ],
   "metadata": {
    "collapsed": false,
    "pycharm": {
     "name": "#%% md\n"
    }
   }
  },
  {
   "cell_type": "code",
   "execution_count": 66,
   "outputs": [
    {
     "data": {
      "text/plain": "<Figure size 432x288 with 1 Axes>",
      "image/png": "[encoded data removed]"
     },
     "metadata": {
      "needs_background": "light"
     },
     "output_type": "display_data"
    }
   ],
   "source": [
    "import random\n",
    "import numpy\n",
    "from matplotlib import pyplot\n",
    "\n",
    "x = df_base_grad_means\n",
    "y = df_mixup_grad_means\n",
    "\n",
    "bins = numpy.linspace(0, 70, 100)\n",
    "\n",
    "pyplot.hist(x, bins, alpha=0.5, label='base')\n",
    "pyplot.hist(y, bins, alpha=0.5, label='mixup')\n",
    "pyplot.legend(loc='upper right')\n",
    "pyplot.show()"
   ],
   "metadata": {
    "collapsed": false,
    "pycharm": {
     "name": "#%%\n"
    }
   }
  },
  {
   "cell_type": "code",
   "execution_count": null,
   "outputs": [],
   "source": [],
   "metadata": {
    "collapsed": false,
    "pycharm": {
     "name": "#%%\n"
    }
   }
  }
 ],
 "metadata": {
  "kernelspec": {
   "display_name": "Python 3",
   "language": "python",
   "name": "python3"
  },
  "language_info": {
   "codemirror_mode": {
    "name": "ipython",
    "version": 2
   },
   "file_extension": ".py",
   "mimetype": "text/x-python",
   "name": "python",
   "nbconvert_exporter": "python",
   "pygments_lexer": "ipython2",
   "version": "2.7.6"
  }
 },
 "nbformat": 4,
 "nbformat_minor": 0
}