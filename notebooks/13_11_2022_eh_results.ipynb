{
 "cells": [
  {
   "cell_type": "code",
   "execution_count": 1,
   "metadata": {},
   "outputs": [],
   "source": [
    "import pandas as pd\n",
    "import numpy as np\n",
    "import matplotlib.pyplot as plt\n",
    "import re"
   ]
  },
  {
   "cell_type": "code",
   "execution_count": 2,
   "metadata": {},
   "outputs": [],
   "source": [
    "df_base = pd.read_csv(\"../data/cifar_10C_resnet_2023_04_24-11_01_31_AM.csv\", header=None)\n",
    "df_mixup = pd.read_csv(\"../data/cifar_10C_resnet_mixup_2023_04_24-01_15_36_PM.csv\", header=None)"
   ]
  },
  {
   "cell_type": "code",
   "execution_count": 3,
   "metadata": {},
   "outputs": [],
   "source": [
    "def func(df):\n",
    "    index = []\n",
    "    for i, row in df.iterrows():\n",
    "        arr_row = row.to_numpy()\n",
    "        arr_row = [int(re.findall(r'\\d+',str(x))[0]) for x in arr_row]\n",
    "        target = arr_row[0]\n",
    "        for idx, i in enumerate(reversed(arr_row[1:])):\n",
    "            if target == i:\n",
    "                continue\n",
    "            elif target != i and idx == 0:\n",
    "                index.append(260)\n",
    "                break\n",
    "            elif target != i:\n",
    "                index.append(len(arr_row)-idx-1)\n",
    "                break\n",
    "    return index"
   ]
  },
  {
   "cell_type": "code",
   "execution_count": 4,
   "metadata": {},
   "outputs": [],
   "source": [
    "df_base_converted = func(df_base)\n",
    "df_mixup_converted = func(df_mixup)"
   ]
  },
  {
   "cell_type": "code",
   "execution_count": 5,
   "metadata": {},
   "outputs": [
    {
     "data": {
      "text/plain": "<Figure size 576x432 with 1 Axes>",
      "image/png": "[encoded data removed]"
     },
     "metadata": {
      "needs_background": "light"
     },
     "output_type": "display_data"
    }
   ],
   "source": [
    "plt.figure(figsize=(8,6))\n",
    "plt.hist(df_base_converted, bins=50, alpha=0.5, label=\"base\")\n",
    "plt.hist(df_mixup_converted, bins=50, alpha=0.5, label=\"mixup\")\n",
    "\n",
    "plt.xlabel(\"epoch\", size=14)\n",
    "plt.ylabel(\"count\", size=14)\n",
    "plt.legend(loc='upper right')\n",
    "plt.savefig(\"cifar10-eh.png\")"
   ]
  },
  {
   "cell_type": "code",
   "execution_count": 12,
   "outputs": [
    {
     "data": {
      "text/plain": "<Figure size 576x432 with 1 Axes>",
      "image/png": "[encoded data removed]"
     },
     "metadata": {
      "needs_background": "light"
     },
     "output_type": "display_data"
    }
   ],
   "source": [
    "import numpy as np\n",
    "import matplotlib.pyplot as plt\n",
    "\n",
    "# Assuming df_base_converted and df_mixup_converted are NumPy arrays or Pandas Series\n",
    "\n",
    "# Calculate the histograms for the two datasets\n",
    "hist_base, bins_base = np.histogram(df_base_converted, bins=50)\n",
    "hist_mixup, bins_mixup = np.histogram(df_mixup_converted, bins=50)\n",
    "\n",
    "# Calculate the bin centers for the histograms\n",
    "bin_centers_base = (bins_base[:-1] + bins_base[1:]) / 2\n",
    "bin_centers_mixup = (bins_mixup[:-1] + bins_mixup[1:]) / 2\n",
    "\n",
    "# Calculate the difference between the two histograms\n",
    "hist_difference = hist_base - hist_mixup\n",
    "\n",
    "# Create a new figure for the difference plot\n",
    "plt.figure(figsize=(8, 6))\n",
    "\n",
    "# Set the color of each bar based on its sign (positive or negative)\n",
    "bar_colors = ['tab:blue' if val >= 0 else 'tab:orange' for val in hist_difference]\n",
    "\n",
    "# Plot the difference histogram with the colored bars\n",
    "plt.bar(bin_centers_base, hist_difference, width=(bins_base[1] - bins_base[0]), color=bar_colors, alpha=0.5)\n",
    "\n",
    "# Optionally, you can add labels, titles, and legends\n",
    "plt.xlabel(\"epoch\")\n",
    "plt.ylabel(\"difference\")\n",
    "import matplotlib.patches as mpatches\n",
    "\n",
    "# Create legend patches for red and blue colors\n",
    "red_patch = mpatches.Patch(color='tab:blue', label='base', alpha=0.5)\n",
    "blue_patch = mpatches.Patch(color='tab:orange', label='mixup', alpha=0.5)\n",
    "\n",
    "# Add the legend with the custom patches\n",
    "plt.legend(handles=[red_patch, blue_patch])\n",
    "\n",
    "# Display the plot\n",
    "plt.savefig(\"cifar10-eh-diff.png\")\n",
    "plt.show()\n"
   ],
   "metadata": {
    "collapsed": false,
    "pycharm": {
     "name": "#%%\n"
    }
   }
  },
  {
   "cell_type": "code",
   "execution_count": 71,
   "outputs": [],
   "source": [
    "df_base_phases = []\n",
    "for i in df_base_converted:\n",
    "    if (i >= 0) and (i <= 90):\n",
    "        df_base_phases.append(1)\n",
    "    elif (i > 90) and (i <= 175):\n",
    "        df_base_phases.append(2)\n",
    "    elif (i > 175) and (i < 260):\n",
    "        df_base_phases.append(3)\n",
    "\n",
    "df_mixup_phases = []\n",
    "for i in df_mixup_converted:\n",
    "    if (i >= 0) and (i <= 90):\n",
    "        df_mixup_phases.append(1)\n",
    "    elif (i > 90) and (i <= 175):\n",
    "        df_mixup_phases.append(2)\n",
    "    elif (i > 175) and (i < 260):\n",
    "        df_mixup_phases.append(3)"
   ],
   "metadata": {
    "collapsed": false,
    "pycharm": {
     "name": "#%%\n"
    }
   }
  },
  {
   "cell_type": "code",
   "execution_count": 79,
   "outputs": [
    {
     "data": {
      "text/plain": "<Figure size 576x432 with 1 Axes>",
      "image/png": "[encoded data removed]"
     },
     "metadata": {
      "needs_background": "light"
     },
     "output_type": "display_data"
    }
   ],
   "source": [
    "plt.figure(figsize=(8,6))\n",
    "plt.hist(df_base_phases, bins=3, alpha=0.5, label=\"base\")\n",
    "plt.hist(df_mixup_phases, bins=3, alpha=0.5, label=\"mixup\")\n",
    "\n",
    "plt.xlabel(\"phase\", size=14)\n",
    "plt.ylabel(\"count\", size=14)\n",
    "plt.legend(loc='upper right')\n",
    "plt.savefig(\"ciraf10=eh-ph.png\")"
   ],
   "metadata": {
    "collapsed": false,
    "pycharm": {
     "name": "#%%\n"
    }
   }
  },
  {
   "cell_type": "code",
   "execution_count": 73,
   "outputs": [
    {
     "name": "stdout",
     "output_type": "stream",
     "text": [
      "base phase 1: 744\n",
      "mixup phase 1: 776\n",
      "base phase 2: 154\n",
      "mixup phase 2: 111\n",
      "base phase 3: 116\n",
      "mixup phase 3: 115\n"
     ]
    }
   ],
   "source": [
    "print(\"base phase 1:\", df_base_phases.count(1))\n",
    "print(\"mixup phase 1:\", df_mixup_phases.count(1))\n",
    "\n",
    "print(\"base phase 2:\", df_base_phases.count(2))\n",
    "print(\"mixup phase 2:\", df_mixup_phases.count(2))\n",
    "\n",
    "print(\"base phase 3:\", df_base_phases.count(3))\n",
    "print(\"mixup phase 3:\", df_mixup_phases.count(3))"
   ],
   "metadata": {
    "collapsed": false,
    "pycharm": {
     "name": "#%%\n"
    }
   }
  },
  {
   "cell_type": "code",
   "execution_count": 74,
   "outputs": [],
   "source": [
    "df_base_phases_pre = []\n",
    "for i in df_base_converted:\n",
    "    if (i >= 0) and (i <= 34):\n",
    "        df_base_phases_pre.append(1)\n",
    "\n",
    "df_mixup_phases_pre = []\n",
    "for i in df_mixup_converted:\n",
    "    if (i >= 0) and (i <= 34):\n",
    "        df_mixup_phases_pre.append(1)"
   ],
   "metadata": {
    "collapsed": false,
    "pycharm": {
     "name": "#%%\n"
    }
   }
  },
  {
   "cell_type": "code",
   "execution_count": 75,
   "outputs": [
    {
     "name": "stdout",
     "output_type": "stream",
     "text": [
      "base phase 1: 463\n",
      "mixup phase 1: 475\n"
     ]
    }
   ],
   "source": [
    "print(\"base phase 1:\", df_base_phases_pre.count(1))\n",
    "print(\"mixup phase 1:\", df_mixup_phases_pre.count(1))"
   ],
   "metadata": {
    "collapsed": false,
    "pycharm": {
     "name": "#%%\n"
    }
   }
  },
  {
   "cell_type": "code",
   "execution_count": 76,
   "outputs": [
    {
     "name": "stdout",
     "output_type": "stream",
     "text": [
      "2.5917926565874723\n"
     ]
    }
   ],
   "source": [
    "print(475*100/463 - 100)"
   ],
   "metadata": {
    "collapsed": false,
    "pycharm": {
     "name": "#%%\n"
    }
   }
  },
  {
   "cell_type": "code",
   "execution_count": 66,
   "outputs": [
    {
     "name": "stdout",
     "output_type": "stream",
     "text": [
      "22.88135593220339\n"
     ]
    }
   ],
   "source": [
    "print(145*100/118 - 100)"
   ],
   "metadata": {
    "collapsed": false,
    "pycharm": {
     "name": "#%%\n"
    }
   }
  },
  {
   "cell_type": "code",
   "execution_count": 29,
   "outputs": [],
   "source": [
    "df_base_converted_filltered = []\n",
    "for i in df_base_converted:\n",
    "    if i == 260:\n",
    "        continue\n",
    "    df_base_converted_filltered.append(i)\n",
    "\n",
    "df_mixup_converted_filltered = []\n",
    "for i in df_mixup_converted:\n",
    "    if i == 260:\n",
    "        continue\n",
    "    df_mixup_converted_filltered.append(i)"
   ],
   "metadata": {
    "collapsed": false,
    "pycharm": {
     "name": "#%%\n"
    }
   }
  },
  {
   "cell_type": "code",
   "execution_count": 34,
   "outputs": [
    {
     "data": {
      "text/plain": "<Figure size 576x432 with 1 Axes>",
      "image/png": "[encoded data removed]"
     },
     "metadata": {
      "needs_background": "light"
     },
     "output_type": "display_data"
    }
   ],
   "source": [
    "plt.figure(figsize=(8,6))\n",
    "plt.hist(df_base_converted_filltered, bins=30, alpha=0.5, label=\"base\")\n",
    "plt.hist(df_mixup_converted_filltered, bins=30, alpha=0.5, label=\"mixup\")\n",
    "\n",
    "plt.xlabel(\"Data\", size=14)\n",
    "plt.ylabel(\"Count\", size=14)\n",
    "plt.legend(loc='upper right')\n",
    "plt.savefig(\"test_2.png\")"
   ],
   "metadata": {
    "collapsed": false,
    "pycharm": {
     "name": "#%%\n"
    }
   }
  },
  {
   "cell_type": "markdown",
   "source": [
    "## Examples"
   ],
   "metadata": {
    "collapsed": false,
    "pycharm": {
     "name": "#%% md\n"
    }
   }
  },
  {
   "cell_type": "code",
   "execution_count": 26,
   "metadata": {},
   "outputs": [],
   "source": [
    "import sys\n",
    "sys.path.append(\"..\")\n",
    "from src.datamodules.cifar10_datamodule import CIFAR10DataModule"
   ]
  },
  {
   "cell_type": "code",
   "execution_count": 36,
   "metadata": {},
   "outputs": [
    {
     "name": "stdout",
     "output_type": "stream",
     "text": [
      "Downloading https://www.cs.toronto.edu/~kriz/cifar-10-python.tar.gz to data/cifar-10-python.tar.gz\n",
      "Files already downloaded and verified\n"
     ]
    }
   ],
   "source": [
    "module = CIFAR10DataModule()\n",
    "module.prepare_data()\n",
    "module.setup()\n",
    "loader = module.train_set_subset_dataloader()"
   ]
  },
  {
   "cell_type": "code",
   "execution_count": 33,
   "metadata": {},
   "outputs": [
    {
     "data": {
      "text/plain": [
       "<torch.utils.data.dataloader.DataLoader at 0x7fa7a3c07e50>"
      ]
     },
     "execution_count": 33,
     "metadata": {},
     "output_type": "execute_result"
    }
   ],
   "source": [
    "from torchvision import datasets, transforms\n",
    "import matplotlib.pyplot as plt"
   ]
  },
  {
   "cell_type": "code",
   "execution_count": 59,
   "metadata": {},
   "outputs": [],
   "source": [
    "easy_i, hard_i = [], []\n",
    "for i, (mixup_m, base_m) in enumerate(zip(mixup_mean, base_mean)):\n",
    "    if mixup_m < 50 and base_m < 50:\n",
    "        easy_i.append(i)\n",
    "\n",
    "    if mixup_m > 150 and base_m > 150:\n",
    "        hard_i.append(i)"
   ]
  },
  {
   "cell_type": "code",
   "execution_count": 62,
   "metadata": {},
   "outputs": [],
   "source": [
    "import matplotlib.pyplot as plt\n",
    "import numpy as np\n",
    "import torchvision\n",
    "\n",
    "# functions to show an image\n",
    "\n",
    "\n",
    "def imshow(img):\n",
    "    img = img / 2 + 0.5     # unnormalize\n",
    "    npimg = img.numpy()\n",
    "    plt.imshow(np.transpose(npimg, (1, 2, 0)))\n",
    "    plt.show()\n",
    "\n",
    "\n",
    "# get some random training images\n",
    "dataiter = iter(loader)\n",
    "images, labels = next(dataiter)\n"
   ]
  },
  {
   "cell_type": "code",
   "execution_count": null,
   "metadata": {},
   "outputs": [],
   "source": [
    "# EASY Examples"
   ]
  },
  {
   "cell_type": "code",
   "execution_count": 63,
   "metadata": {},
   "outputs": [
    {
     "name": "stderr",
     "output_type": "stream",
     "text": [
      "Clipping input data to the valid range for imshow with RGB data ([0..1] for floats or [0..255] for integers).\n"
     ]
    },
    {
     "data": {
      "image/png": "[encoded data removed]",
      "text/plain": [
       "<Figure size 640x480 with 1 Axes>"
      ]
     },
     "metadata": {},
     "output_type": "display_data"
    },
    {
     "name": "stdout",
     "output_type": "stream",
     "text": [
      "tensor(8)\n",
      "1.6666666666666667\n",
      "2.3333333333333335\n"
     ]
    }
   ],
   "source": [
    "# show images\n",
    "i = easy_i[0]\n",
    "imshow(torchvision.utils.make_grid(images[i]))\n",
    "print(labels[i])\n",
    "print(base_mean[i])\n",
    "print(mixup_mean[i])"
   ]
  },
  {
   "cell_type": "code",
   "execution_count": 85,
   "metadata": {},
   "outputs": [
    {
     "name": "stderr",
     "output_type": "stream",
     "text": [
      "Clipping input data to the valid range for imshow with RGB data ([0..1] for floats or [0..255] for integers).\n"
     ]
    },
    {
     "data": {
      "image/png": "[encoded data removed]",
      "text/plain": [
       "<Figure size 640x480 with 1 Axes>"
      ]
     },
     "metadata": {},
     "output_type": "display_data"
    },
    {
     "name": "stdout",
     "output_type": "stream",
     "text": [
      "tensor(8)\n",
      "1.6666666666666667\n",
      "1.0\n"
     ]
    }
   ],
   "source": [
    "# show images\n",
    "i = easy_i[4]\n",
    "imshow(torchvision.utils.make_grid(images[i]))\n",
    "print(labels[i])\n",
    "print(base_mean[i])\n",
    "print(mixup_mean[i])"
   ]
  },
  {
   "cell_type": "code",
   "execution_count": 102,
   "metadata": {},
   "outputs": [
    {
     "name": "stderr",
     "output_type": "stream",
     "text": [
      "Clipping input data to the valid range for imshow with RGB data ([0..1] for floats or [0..255] for integers).\n"
     ]
    },
    {
     "data": {
      "image/png": "[encoded data removed]",
      "text/plain": [
       "<Figure size 640x480 with 1 Axes>"
      ]
     },
     "metadata": {},
     "output_type": "display_data"
    },
    {
     "name": "stdout",
     "output_type": "stream",
     "text": [
      "tensor(0)\n",
      "44.0\n",
      "36.666666666666664\n"
     ]
    }
   ],
   "source": [
    "# show images\n",
    "i = easy_i[10]\n",
    "imshow(torchvision.utils.make_grid(images[i]))\n",
    "print(labels[i])\n",
    "print(base_mean[i])\n",
    "print(mixup_mean[i])"
   ]
  },
  {
   "cell_type": "code",
   "execution_count": 84,
   "metadata": {},
   "outputs": [
    {
     "name": "stderr",
     "output_type": "stream",
     "text": [
      "Clipping input data to the valid range for imshow with RGB data ([0..1] for floats or [0..255] for integers).\n"
     ]
    },
    {
     "data": {
      "image/png": "[encoded data removed]",
      "text/plain": [
       "<Figure size 640x480 with 1 Axes>"
      ]
     },
     "metadata": {},
     "output_type": "display_data"
    },
    {
     "name": "stdout",
     "output_type": "stream",
     "text": [
      "tensor(6)\n",
      "29.0\n",
      "9.666666666666666\n"
     ]
    }
   ],
   "source": [
    "# show images\n",
    "i = easy_i[2]\n",
    "imshow(torchvision.utils.make_grid(images[i]))\n",
    "print(labels[i])\n",
    "print(base_mean[i])\n",
    "print(mixup_mean[i])"
   ]
  },
  {
   "cell_type": "code",
   "execution_count": null,
   "metadata": {},
   "outputs": [],
   "source": [
    "# HARD Examples"
   ]
  },
  {
   "cell_type": "code",
   "execution_count": 81,
   "metadata": {},
   "outputs": [
    {
     "name": "stderr",
     "output_type": "stream",
     "text": [
      "Clipping input data to the valid range for imshow with RGB data ([0..1] for floats or [0..255] for integers).\n"
     ]
    },
    {
     "name": "stdout",
     "output_type": "stream",
     "text": [
      "6\n"
     ]
    },
    {
     "data": {
      "image/png": "[encoded data removed]",
      "text/plain": [
       "<Figure size 640x480 with 1 Axes>"
      ]
     },
     "metadata": {},
     "output_type": "display_data"
    },
    {
     "name": "stdout",
     "output_type": "stream",
     "text": [
      "tensor(4)\n",
      "183.66666666666666\n",
      "190.33333333333334\n"
     ]
    }
   ],
   "source": [
    "# show images\n",
    "i = hard_i[2]\n",
    "print(i)\n",
    "imshow(torchvision.utils.make_grid(images[i]))\n",
    "print(labels[i])\n",
    "print(base_mean[i])\n",
    "print(mixup_mean[i])"
   ]
  },
  {
   "cell_type": "code",
   "execution_count": 82,
   "metadata": {},
   "outputs": [
    {
     "name": "stderr",
     "output_type": "stream",
     "text": [
      "Clipping input data to the valid range for imshow with RGB data ([0..1] for floats or [0..255] for integers).\n"
     ]
    },
    {
     "name": "stdout",
     "output_type": "stream",
     "text": [
      "9\n"
     ]
    },
    {
     "data": {
      "image/png": "[encoded data removed]",
      "text/plain": [
       "<Figure size 640x480 with 1 Axes>"
      ]
     },
     "metadata": {},
     "output_type": "display_data"
    },
    {
     "name": "stdout",
     "output_type": "stream",
     "text": [
      "tensor(4)\n",
      "199.33333333333334\n",
      "197.66666666666666\n"
     ]
    }
   ],
   "source": [
    "# show images\n",
    "i = hard_i[3]\n",
    "print(i)\n",
    "imshow(torchvision.utils.make_grid(images[i]))\n",
    "print(labels[i])\n",
    "print(base_mean[i])\n",
    "print(mixup_mean[i])"
   ]
  },
  {
   "cell_type": "code",
   "execution_count": 83,
   "metadata": {},
   "outputs": [
    {
     "name": "stderr",
     "output_type": "stream",
     "text": [
      "Clipping input data to the valid range for imshow with RGB data ([0..1] for floats or [0..255] for integers).\n"
     ]
    },
    {
     "name": "stdout",
     "output_type": "stream",
     "text": [
      "11\n"
     ]
    },
    {
     "data": {
      "image/png": "[encoded data removed]",
      "text/plain": [
       "<Figure size 640x480 with 1 Axes>"
      ]
     },
     "metadata": {},
     "output_type": "display_data"
    },
    {
     "name": "stdout",
     "output_type": "stream",
     "text": [
      "tensor(5)\n",
      "191.33333333333334\n",
      "198.66666666666666\n"
     ]
    }
   ],
   "source": [
    "# show images\n",
    "i = hard_i[4]\n",
    "print(i)\n",
    "imshow(torchvision.utils.make_grid(images[i]))\n",
    "print(labels[i])\n",
    "print(base_mean[i])\n",
    "print(mixup_mean[i])"
   ]
  },
  {
   "cell_type": "code",
   "execution_count": 79,
   "metadata": {},
   "outputs": [
    {
     "name": "stderr",
     "output_type": "stream",
     "text": [
      "Clipping input data to the valid range for imshow with RGB data ([0..1] for floats or [0..255] for integers).\n"
     ]
    },
    {
     "name": "stdout",
     "output_type": "stream",
     "text": [
      "28\n"
     ]
    },
    {
     "data": {
      "image/png": "[encoded data removed]",
      "text/plain": [
       "<Figure size 640x480 with 1 Axes>"
      ]
     },
     "metadata": {},
     "output_type": "display_data"
    },
    {
     "name": "stdout",
     "output_type": "stream",
     "text": [
      "tensor(3)\n",
      "197.0\n",
      "198.66666666666666\n"
     ]
    }
   ],
   "source": [
    "# show images\n",
    "i = hard_i[10]\n",
    "print(i)\n",
    "imshow(torchvision.utils.make_grid(images[i]))\n",
    "print(labels[i])\n",
    "print(base_mean[i])\n",
    "print(mixup_mean[i])"
   ]
  },
  {
   "cell_type": "markdown",
   "metadata": {},
   "source": [
    "Next steps:\n",
    "    cifar 100\n",
    "    nlp\n",
    "\n"
   ]
  }
 ],
 "metadata": {
  "kernelspec": {
   "display_name": "Python 3.7.9 ('m1-base')",
   "language": "python",
   "name": "python3"
  },
  "language_info": {
   "codemirror_mode": {
    "name": "ipython",
    "version": 3
   },
   "file_extension": ".py",
   "mimetype": "text/x-python",
   "name": "python",
   "nbconvert_exporter": "python",
   "pygments_lexer": "ipython3",
   "version": "3.7.9"
  },
  "orig_nbformat": 4,
  "vscode": {
   "interpreter": {
    "hash": "348a88147066ff7048c2b75f9f08309eccf16dbf4c0a1758730f69b60fd50f18"
   }
  }
 },
 "nbformat": 4,
 "nbformat_minor": 2
}