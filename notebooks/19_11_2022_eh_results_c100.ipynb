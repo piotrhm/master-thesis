{
 "cells": [
  {
   "cell_type": "code",
   "execution_count": 1,
   "metadata": {},
   "outputs": [],
   "source": [
    "import pandas as pd\n",
    "import numpy as np\n",
    "import matplotlib.pyplot as plt\n",
    "import re"
   ]
  },
  {
   "cell_type": "code",
   "execution_count": 2,
   "metadata": {},
   "outputs": [],
   "source": [
    "df_mixup = pd.read_csv(\"../data/cifar_100_resnet_mixup_2023_04_21-02_10_03_PM.csv\", header=None)\n",
    "df_base = pd.read_csv(\"../data/resnet18_cifar_100_2023_04_16-02_01_02_PM.csv\", header=None)"
   ]
  },
  {
   "cell_type": "code",
   "execution_count": 3,
   "metadata": {},
   "outputs": [],
   "source": [
    "def func(df):\n",
    "    index = []\n",
    "    for i, row in df.iterrows():\n",
    "        arr_row = row.to_numpy()\n",
    "        arr_row = [int(re.findall(r'\\d+',str(x))[0]) for x in arr_row]\n",
    "        target = arr_row[0]\n",
    "        for idx, i in enumerate(reversed(arr_row[1:])):\n",
    "            if target == i:\n",
    "                continue\n",
    "            elif target != i and idx == 0:\n",
    "                index.append(300)\n",
    "                break\n",
    "            elif target != i:\n",
    "                index.append(len(arr_row)-idx-1)\n",
    "                break\n",
    "    return index"
   ]
  },
  {
   "cell_type": "code",
   "execution_count": 4,
   "metadata": {},
   "outputs": [],
   "source": [
    "df_base_converted = func(df_base)\n",
    "df_mixup_converted = func(df_mixup)"
   ]
  },
  {
   "cell_type": "code",
   "execution_count": 24,
   "metadata": {
    "pycharm": {
     "name": "#%%\n"
    }
   },
   "outputs": [
    {
     "data": {
      "text/plain": "<Figure size 576x432 with 1 Axes>",
      "image/png": "[encoded data removed]"
     },
     "metadata": {
      "needs_background": "light"
     },
     "output_type": "display_data"
    }
   ],
   "source": [
    "plt.figure(figsize=(8,6))\n",
    "plt.hist(df_base_converted, bins=50, alpha=0.5, label=\"base\")\n",
    "plt.hist(df_mixup_converted, bins=50, alpha=0.5, label=\"mixup\")\n",
    "\n",
    "plt.xlabel(\"epoch\", size=14)\n",
    "plt.ylabel(\"count\", size=14)\n",
    "plt.legend(loc='upper right')\n",
    "plt.savefig(\"cifar100-eh.png\")"
   ]
  },
  {
   "cell_type": "code",
   "execution_count": 44,
   "outputs": [
    {
     "data": {
      "text/plain": "<Figure size 576x432 with 1 Axes>",
      "image/png": "[encoded data removed]"
     },
     "metadata": {
      "needs_background": "light"
     },
     "output_type": "display_data"
    }
   ],
   "source": [
    "import numpy as np\n",
    "import matplotlib.pyplot as plt\n",
    "\n",
    "# Assuming df_base_converted and df_mixup_converted are NumPy arrays or Pandas Series\n",
    "\n",
    "# Calculate the histograms for the two datasets\n",
    "hist_base, bins_base = np.histogram(df_base_converted, bins=50)\n",
    "hist_mixup, bins_mixup = np.histogram(df_mixup_converted, bins=50)\n",
    "\n",
    "# Calculate the bin centers for the histograms\n",
    "bin_centers_base = (bins_base[:-1] + bins_base[1:]) / 2\n",
    "bin_centers_mixup = (bins_mixup[:-1] + bins_mixup[1:]) / 2\n",
    "\n",
    "# Calculate the difference between the two histograms\n",
    "hist_difference = hist_base - hist_mixup\n",
    "\n",
    "# Create a new figure for the difference plot\n",
    "plt.figure(figsize=(8, 6))\n",
    "\n",
    "# Set the color of each bar based on its sign (positive or negative)\n",
    "bar_colors = ['tab:blue' if val >= 0 else 'tab:orange' for val in hist_difference]\n",
    "\n",
    "# Plot the difference histogram with the colored bars\n",
    "plt.bar(bin_centers_base, hist_difference, width=(bins_base[1] - bins_base[0]), color=bar_colors, alpha=0.5)\n",
    "\n",
    "# Optionally, you can add labels, titles, and legends\n",
    "plt.xlabel(\"epoch\")\n",
    "plt.ylabel(\"difference\")\n",
    "import matplotlib.patches as mpatches\n",
    "\n",
    "# Create legend patches for red and blue colors\n",
    "red_patch = mpatches.Patch(color='tab:blue', label='base', alpha=0.5)\n",
    "blue_patch = mpatches.Patch(color='tab:orange', label='mixup', alpha=0.5)\n",
    "\n",
    "# Add the legend with the custom patches\n",
    "plt.legend(handles=[red_patch, blue_patch])\n",
    "\n",
    "# Display the plot\n",
    "plt.savefig(\"cifar100-eh-diff.png\")\n",
    "plt.show()\n"
   ],
   "metadata": {
    "collapsed": false,
    "pycharm": {
     "name": "#%%\n"
    }
   }
  },
  {
   "cell_type": "code",
   "execution_count": 103,
   "outputs": [],
   "source": [
    "df_base_phases = []\n",
    "for i in df_base_converted:\n",
    "    if (i >= 0) and (i <= 100):\n",
    "        df_base_phases.append(1)\n",
    "    elif (i > 100) and (i <= 150):\n",
    "        df_base_phases.append(2)\n",
    "    elif (i > 150) and (i <= 225):\n",
    "        df_base_phases.append(3)\n",
    "    elif (i > 225) and (i < 300):\n",
    "        df_base_phases.append(4)\n",
    "\n",
    "df_mixup_phases = []\n",
    "for i in df_mixup_converted:\n",
    "    if (i >= 0) and (i <= 100):\n",
    "        df_mixup_phases.append(1)\n",
    "    elif (i > 100) and (i <= 150):\n",
    "        df_mixup_phases.append(2)\n",
    "    elif (i > 150) and (i <= 225):\n",
    "        df_mixup_phases.append(3)\n",
    "    elif (i > 225) and (i < 300):\n",
    "        df_mixup_phases.append(4)"
   ],
   "metadata": {
    "collapsed": false,
    "pycharm": {
     "name": "#%%\n"
    }
   }
  },
  {
   "cell_type": "code",
   "execution_count": 110,
   "outputs": [
    {
     "data": {
      "text/plain": "<Figure size 576x432 with 1 Axes>",
      "image/png": "[encoded data removed]"
     },
     "metadata": {
      "needs_background": "light"
     },
     "output_type": "display_data"
    }
   ],
   "source": [
    "plt.figure(figsize=(8,6))\n",
    "plt.hist(df_base_phases, bins=4, alpha=0.5, label=\"base\")\n",
    "plt.hist(df_mixup_phases, bins=4, alpha=0.5, label=\"mixup\")\n",
    "\n",
    "plt.xlabel(\"phase\", size=14)\n",
    "plt.ylabel(\"count\", size=14)\n",
    "plt.legend(loc='upper right')\n",
    "plt.savefig(\"cifar100-eh-ph.png\")"
   ],
   "metadata": {
    "collapsed": false,
    "pycharm": {
     "name": "#%%\n"
    }
   }
  },
  {
   "cell_type": "code",
   "execution_count": 105,
   "outputs": [
    {
     "name": "stdout",
     "output_type": "stream",
     "text": [
      "base phase 1: 256\n",
      "mixup phase 1: 258\n",
      "base phase 2: 413\n",
      "mixup phase 2: 366\n",
      "base phase 3: 307\n",
      "mixup phase 3: 326\n",
      "base phase 4: 47\n",
      "mixup phase 4: 70\n"
     ]
    }
   ],
   "source": [
    "print(\"base phase 1:\", df_base_phases.count(1))\n",
    "print(\"mixup phase 1:\", df_mixup_phases.count(1))\n",
    "\n",
    "print(\"base phase 2:\", df_base_phases.count(2))\n",
    "print(\"mixup phase 2:\", df_mixup_phases.count(2))\n",
    "\n",
    "print(\"base phase 3:\", df_base_phases.count(3))\n",
    "print(\"mixup phase 3:\", df_mixup_phases.count(3))\n",
    "\n",
    "print(\"base phase 4:\", df_base_phases.count(4))\n",
    "print(\"mixup phase 4:\", df_mixup_phases.count(4))"
   ],
   "metadata": {
    "collapsed": false,
    "pycharm": {
     "name": "#%%\n"
    }
   }
  },
  {
   "cell_type": "code",
   "execution_count": 106,
   "outputs": [],
   "source": [
    "df_base_phases_pre = []\n",
    "for i in df_base_converted:\n",
    "    if (i >= 0) and (i <= 40):\n",
    "        df_base_phases_pre.append(1)\n",
    "\n",
    "df_mixup_phases_pre = []\n",
    "for i in df_mixup_converted:\n",
    "    if (i >= 0) and (i <= 40):\n",
    "        df_mixup_phases_pre.append(1)"
   ],
   "metadata": {
    "collapsed": false,
    "pycharm": {
     "name": "#%%\n"
    }
   }
  },
  {
   "cell_type": "code",
   "execution_count": 107,
   "outputs": [
    {
     "name": "stdout",
     "output_type": "stream",
     "text": [
      "base phase 1: 52\n",
      "mixup phase 1: 65\n"
     ]
    }
   ],
   "source": [
    "print(\"base phase 1:\", df_base_phases_pre.count(1))\n",
    "print(\"mixup phase 1:\", df_mixup_phases_pre.count(1))"
   ],
   "metadata": {
    "collapsed": false,
    "pycharm": {
     "name": "#%%\n"
    }
   }
  },
  {
   "cell_type": "code",
   "execution_count": 108,
   "outputs": [
    {
     "name": "stdout",
     "output_type": "stream",
     "text": [
      "25.0\n"
     ]
    }
   ],
   "source": [
    "print((65*100)/52 - 100)"
   ],
   "metadata": {
    "collapsed": false,
    "pycharm": {
     "name": "#%%\n"
    }
   }
  },
  {
   "cell_type": "code",
   "execution_count": null,
   "outputs": [],
   "source": [],
   "metadata": {
    "collapsed": false,
    "pycharm": {
     "name": "#%%\n"
    }
   }
  }
 ],
 "metadata": {
  "kernelspec": {
   "display_name": "master-base",
   "language": "python",
   "name": "python3"
  },
  "language_info": {
   "codemirror_mode": {
    "name": "ipython",
    "version": 3
   },
   "file_extension": ".py",
   "mimetype": "text/x-python",
   "name": "python",
   "nbconvert_exporter": "python",
   "pygments_lexer": "ipython3",
   "version": "3.7.9 (default, Aug 31 2020, 12:42:55) \n[GCC 7.3.0]"
  },
  "orig_nbformat": 4,
  "vscode": {
   "interpreter": {
    "hash": "00c671155eabddcc4129440d80944764bb5577a7ae7cffe4a5c29e9ff79ecf3a"
   }
  }
 },
 "nbformat": 4,
 "nbformat_minor": 2
}