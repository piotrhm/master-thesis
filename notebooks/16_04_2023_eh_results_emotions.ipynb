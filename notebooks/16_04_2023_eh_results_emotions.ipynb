{
 "cells": [
  {
   "cell_type": "code",
   "execution_count": 1,
   "metadata": {},
   "outputs": [],
   "source": [
    "import pandas as pd\n",
    "import numpy as np\n",
    "import matplotlib.pyplot as plt"
   ]
  },
  {
   "cell_type": "code",
   "execution_count": 2,
   "metadata": {},
   "outputs": [],
   "source": [
    "df_base = pd.read_csv(\"../data/bert_base_emontions_2023_04_16-08_02_34_PM.csv\", header=None)\n",
    "df_emb = pd.read_csv(\"../data/bert_base_emontions_mixup_embedding_2023_04_16-08_59_34_PM.csv\", header=None)"
   ]
  },
  {
   "cell_type": "code",
   "execution_count": 3,
   "metadata": {},
   "outputs": [],
   "source": [
    "def func(df):\n",
    "    index = []\n",
    "    for i, row in df.iterrows():\n",
    "        arr_row = row.to_numpy()\n",
    "        arr_row = [int(x[-2]) for x in arr_row]\n",
    "        target = arr_row[0]\n",
    "        for idx, i in enumerate(reversed(arr_row[1:])):\n",
    "            if target == i:\n",
    "                continue\n",
    "            elif target != i and idx == 0:\n",
    "                index.append(8)\n",
    "                break\n",
    "            elif target != i:\n",
    "                index.append(len(arr_row)-idx-1)\n",
    "                break\n",
    "\n",
    "        # print(\"========\")\n",
    "        # print(index[-1])\n",
    "        # print(arr_row)\n",
    "        # print(\"========\")\n",
    "\n",
    "    return index\n"
   ]
  },
  {
   "cell_type": "code",
   "execution_count": 4,
   "metadata": {},
   "outputs": [],
   "source": [
    "df_base_converted = func(df_base)\n",
    "df_emb_converted = func(df_emb)"
   ]
  },
  {
   "cell_type": "code",
   "execution_count": 5,
   "outputs": [],
   "source": [
    "df_base_converted_filltered = []\n",
    "for i in df_base_converted:\n",
    "    if i == 1:\n",
    "        continue\n",
    "    df_base_converted_filltered.append(i)\n",
    "\n",
    "df_emb_converted_filltered = []\n",
    "for i in df_emb_converted:\n",
    "    if i == 1:\n",
    "        continue\n",
    "    df_emb_converted_filltered.append(i)"
   ],
   "metadata": {
    "collapsed": false,
    "pycharm": {
     "name": "#%%\n"
    }
   }
  },
  {
   "cell_type": "code",
   "execution_count": 6,
   "outputs": [
    {
     "data": {
      "text/plain": "<Figure size 576x432 with 1 Axes>",
      "image/png": "[encoded data removed]"
     },
     "metadata": {
      "needs_background": "light"
     },
     "output_type": "display_data"
    }
   ],
   "source": [
    "plt.figure(figsize=(8,6))\n",
    "plt.hist(df_base_converted_filltered, bins=8, alpha=0.5, label=\"base\")\n",
    "plt.hist(df_emb_converted_filltered, bins=8, alpha=0.5, label=\"mixup\")\n",
    "\n",
    "plt.xlabel(\"Data\", size=14)\n",
    "plt.ylabel(\"Count\", size=14)\n",
    "plt.legend(loc='upper right')\n",
    "plt.savefig(\"test_bert_emotions.png\")"
   ],
   "metadata": {
    "collapsed": false,
    "pycharm": {
     "name": "#%%\n"
    }
   }
  },
  {
   "cell_type": "code",
   "execution_count": null,
   "outputs": [],
   "source": [],
   "metadata": {
    "collapsed": false,
    "pycharm": {
     "name": "#%%\n"
    }
   }
  }
 ],
 "metadata": {
  "kernelspec": {
   "display_name": "master-base",
   "language": "python",
   "name": "python3"
  },
  "language_info": {
   "codemirror_mode": {
    "name": "ipython",
    "version": 3
   },
   "file_extension": ".py",
   "mimetype": "text/x-python",
   "name": "python",
   "nbconvert_exporter": "python",
   "pygments_lexer": "ipython3",
   "version": "3.7.9 (default, Aug 31 2020, 12:42:55) \n[GCC 7.3.0]"
  },
  "orig_nbformat": 4,
  "vscode": {
   "interpreter": {
    "hash": "00c671155eabddcc4129440d80944764bb5577a7ae7cffe4a5c29e9ff79ecf3a"
   }
  }
 },
 "nbformat": 4,
 "nbformat_minor": 2
}